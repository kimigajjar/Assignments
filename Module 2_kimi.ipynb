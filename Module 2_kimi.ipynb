{
 "cells": [
  {
   "cell_type": "code",
   "execution_count": null,
   "id": "d65798fe",
   "metadata": {},
   "outputs": [],
   "source": [
    "#  Write a Python program to check if a number is positive, negative or zero.\n",
    "\n",
    "num = int(input(\"enter the number:\"))\n",
    "if num > 0:\n",
    "    print(\"number entered is positive\")\n",
    "elif num < 0:\n",
    "    print(\"number entered is negative\")\n",
    "else:\n",
    "    print(\"number you entered is zero\")"
   ]
  },
  {
   "cell_type": "code",
   "execution_count": null,
   "id": "f95b0b3c",
   "metadata": {},
   "outputs": [],
   "source": [
    "# Write a Python program to get the Factorial number of given number.\n",
    "\n",
    "num = int(input(\"enter the number:\"))\n",
    "fact = 1\n",
    "for i in range(1,num+1):\n",
    "    fact *= i\n",
    "print(fact)"
   ]
  },
  {
   "cell_type": "code",
   "execution_count": null,
   "id": "01106309",
   "metadata": {},
   "outputs": [],
   "source": [
    "#  Write a Python program to get the Fibonacci series of given range.\n",
    "\n",
    "n = int(input(\"enter the number up to which you want the series: \"))\n",
    "n1,n2 = 0,1\n",
    "c = 0\n",
    "print('fibonacci series is')\n",
    "while c<n:\n",
    "    print(n1,end=' ')\n",
    "    sum = n1 + n2\n",
    "    n1 = n2\n",
    "    n2 = sum\n",
    "    c+=1"
   ]
  },
  {
   "cell_type": "code",
   "execution_count": null,
   "id": "e7eeeca4",
   "metadata": {},
   "outputs": [],
   "source": [
    "#  How memory is managed in Python?\n",
    "\n",
    "# Python memory is managed by Python private heap space.\n",
    "# All Python objects and data structures are located in a private heap."
   ]
  },
  {
   "cell_type": "code",
   "execution_count": null,
   "id": "04a05a97",
   "metadata": {},
   "outputs": [],
   "source": [
    "#  What is the purpose continue statement in python?\n",
    "\n",
    "# the continue statement is used to end the current iteration in the loop(while or for loop) and continues to the next iteration"
   ]
  },
  {
   "cell_type": "code",
   "execution_count": null,
   "id": "303f3acc",
   "metadata": {},
   "outputs": [],
   "source": [
    "#  Write python program that swap two number with temp variable and without temp variable\n",
    "\n",
    "#swap using temp variable\n",
    "\n",
    "a = 10\n",
    "b = 20\n",
    "print(\"before swaping\")\n",
    "print(\"a = \",a)\n",
    "print(\"b = \",b)\n",
    "temp = a\n",
    "a = b\n",
    "b = temp\n",
    "print(\"after swaping\")\n",
    "print(\"a = \",a)\n",
    "print(\"b = \",b)\n",
    "\n",
    "# swap without temp variable\n",
    "\n",
    "x = 10\n",
    "y = 30\n",
    "# swap without temp variable\n",
    "x = 10\n",
    "y = 30\n",
    "x,y = y,x\n",
    "print(\"before swaping\")\n",
    "print(\"x = \",x)\n",
    "print(\"y = \",y)\n",
    "x,y = y,x\n",
    "print(\"after swaping\")\n",
    "print(\"x = \",x)\n",
    "print(\"y = \",y)"
   ]
  },
  {
   "cell_type": "code",
   "execution_count": null,
   "id": "1708472f",
   "metadata": {},
   "outputs": [],
   "source": [
    "#  Write a Python program to find whether a given number is even or odd,print out an appropriate message to the user.\n",
    "\n",
    "num = int(input(\"enter the number:\"))\n",
    "if num % 2 == 0:\n",
    "    print(\"the number is even\")\n",
    "else:\n",
    "    print(\"the number is odd\")"
   ]
  },
  {
   "cell_type": "code",
   "execution_count": null,
   "id": "9746f3e0",
   "metadata": {},
   "outputs": [],
   "source": [
    "#  Write a Python program to test whether a passed letter is a vowel or not.\n",
    "\n",
    "letter = input(\"enter the letter : \")\n",
    "alphabets = ['a','e','i','o','u']\n",
    "if letter in alphabets:\n",
    "    print(\"entered letter is a vowel\")\n",
    "else:\n",
    "    print(\"entered letter is not a vowel\")"
   ]
  },
  {
   "cell_type": "code",
   "execution_count": null,
   "id": "4ef6f1e5",
   "metadata": {},
   "outputs": [],
   "source": [
    "#  Write a Python program to sum of three given integers.However, if two values are equal sum will be zero.\n",
    "\n",
    "x = int(input(\"enter the value of x :\"))\n",
    "y = int(input(\"enter the value of y :\"))\n",
    "z = int(input(\"enter the value of z :\"))\n",
    "if (x == y or y == z or z == x):\n",
    "    sum = 0\n",
    "else:\n",
    "    sum = x + y + z\n",
    "print(\"sum = \",sum)"
   ]
  },
  {
   "cell_type": "code",
   "execution_count": null,
   "id": "b2e27a87",
   "metadata": {},
   "outputs": [],
   "source": [
    "# Write a Python program that will return true ifthe two given integervalues are equal or their sum or difference is 5.\n",
    "\n",
    "def fun(num1,num2):\n",
    "    if num1==num2 or num1-num2==5 or num1+num2==5:\n",
    "        return True\n",
    "    else:\n",
    "        return False\n",
    "fun(5,5)"
   ]
  },
  {
   "cell_type": "code",
   "execution_count": null,
   "id": "3226aa8d",
   "metadata": {},
   "outputs": [],
   "source": [
    "# Write a python program to sum of the first n positive integers.\n",
    "\n",
    "n = int(input(\"enter the integer:\"))\n",
    "sum = 0\n",
    "for i in range(0,n+1):\n",
    "    sum += i\n",
    "    i += 1\n",
    "print(sum)"
   ]
  },
  {
   "cell_type": "code",
   "execution_count": null,
   "id": "4c6cbd9f",
   "metadata": {},
   "outputs": [],
   "source": [
    "# Write a Python program to calculate the length of a string.\n",
    "\n",
    "string = input(\"enter the string : \")\n",
    "a = len(string)\n",
    "print(\"length of the string is\",a)\n",
    "\n",
    "# ------------- OR --------------\n",
    "\n",
    "string = input(\"enter the string : \")\n",
    "count = 0\n",
    "for i in string:\n",
    "    count += 1\n",
    "print(\"length of the string is :\",count)"
   ]
  },
  {
   "cell_type": "code",
   "execution_count": null,
   "id": "7266009f",
   "metadata": {},
   "outputs": [],
   "source": [
    "# Write a Python program to count the number of characters (character frequency) in a string\n",
    "\n",
    "a = input(\"enter the string : \")\n",
    "b = input(\"enter the character whose frequency is to be find : \")\n",
    "c = a.count(b)\n",
    "print(f\"frequency of {b} in a input string is\",c)\n",
    "\n",
    "# ------------------ OR -----------------------\n",
    "\n",
    "x = input(\"enter the string : \")\n",
    "y = input(\"enter the character whose frequency is to be find : \")\n",
    "count = 0\n",
    "for i in x:\n",
    "    if i == y:\n",
    "        count += 1\n",
    "print(f\"frequency of {y} in a input string is\",count)"
   ]
  },
  {
   "cell_type": "code",
   "execution_count": null,
   "id": "1d5d1352",
   "metadata": {},
   "outputs": [],
   "source": [
    "#  What are negative indexes and why are they used?\n",
    "\n",
    "# The negative index is used to remove any new-line spaces from the string and allow the string to except the last character\n",
    "# that is given as S[:-1].\n",
    "# The negative index is also used to show the index to represent the string in correct order.\n",
    "# example\n",
    "#   a =   [1, 2, 3, 4, 5]\n",
    "# index = -5,-4,-3,-2,-1"
   ]
  },
  {
   "cell_type": "code",
   "execution_count": null,
   "id": "384c4adb",
   "metadata": {},
   "outputs": [],
   "source": [
    "# Write a Python program to count occurrences of a substring in a string.\n",
    "\n",
    "str1 = input(\"enter the string : \")\n",
    "sub_string = input(\"enter the sub string to be find :\")\n",
    "str2 = str1.count(sub_string)\n",
    "print(\"occurences of substring =\",str2)"
   ]
  },
  {
   "cell_type": "code",
   "execution_count": null,
   "id": "e1244e17",
   "metadata": {},
   "outputs": [],
   "source": [
    "# Write a Python program to count the occurrences of each word in a given sentence\n",
    "\n",
    "str1 = input(\"enter the sentence : \")\n",
    "str2 = input(\"enter the word whose occurence is to be find : \")\n",
    "str3 = str1.count(str2)\n",
    "print(str3)"
   ]
  },
  {
   "cell_type": "code",
   "execution_count": null,
   "id": "a8f81f3b",
   "metadata": {},
   "outputs": [],
   "source": [
    "# Write a Python program to get a single string from two given strings, separated by a space and swap the first two characters\n",
    "# of each string.\n",
    "\n",
    "a = input('enter str 1: ')\n",
    "b = input('enter str 2: ')\n",
    "new_a = b[:2] + a[2:]\n",
    "new_b = a[:2] + b[2:]\n",
    "new_str = new_a + ' ' + new_b\n",
    "print(new_str)"
   ]
  },
  {
   "cell_type": "code",
   "execution_count": null,
   "id": "6335aaa5",
   "metadata": {},
   "outputs": [],
   "source": [
    "# Write a Python program to add 'ing' at the end of a given string (length should be at least 3). If the given string already \n",
    "# ends with 'ing' then add 'ly' insteadif the string length of the given string is less than 3, leave it unchanged.\n",
    "\n",
    "s1 = input(\"enter the string : \")\n",
    "if(s1[-1]=='g' and s1[-2]=='n' and s1[-3]=='i'):\n",
    "    s2 = s1[:-3] + 'ly'\n",
    "elif(len(s1)<3):\n",
    "    s2 = s1\n",
    "else:\n",
    "    s2 = s1+'ing'\n",
    "\n",
    "print(s2)\n"
   ]
  },
  {
   "cell_type": "code",
   "execution_count": null,
   "id": "bc51bdf0",
   "metadata": {},
   "outputs": [],
   "source": [
    "# Write a Python program to find the first appearance of the substring 'not' and 'poor' froma given string, if 'not' follows \n",
    "# the 'poor', replace the whole'not'...'poor'substring with 'good'. Return the resulting string.\n",
    "\n",
    "string = input(\"enter string : \")\n",
    "a = string.find('not')\n",
    "b = string.find('poor')\n",
    "print(a)\n",
    "print(b)\n",
    "if b > a:\n",
    "    str1 = string.replace(string[a:b+4], 'good')\n",
    "print(str1)"
   ]
  },
  {
   "cell_type": "code",
   "execution_count": null,
   "id": "f9f98dd7",
   "metadata": {},
   "outputs": [],
   "source": [
    "# Write a Python function that takes a list of words and returns the length of the longest one.\n",
    "\n",
    "def fun(user_input):\n",
    "    list1 = user_input.split()\n",
    "    list2 = []\n",
    "    for i in list1:\n",
    "        list2.append(len(i))\n",
    "    print(list2)\n",
    "    list2.sort()\n",
    "    c=f\"length of the longest one is : {list2[-1]}\"\n",
    "    return c\n",
    "user_input = input(\"enter the string :\")\n",
    "fun(user_input)\n"
   ]
  },
  {
   "cell_type": "code",
   "execution_count": null,
   "id": "c7412b1d",
   "metadata": {},
   "outputs": [],
   "source": [
    "# Write a Python function to reverses a string if its length is a multiple of 4.\n",
    "\n",
    "def reverse_str(str1):\n",
    "    if len(str1) % 4 == 0:\n",
    "        return ''.join(reversed(str1))\n",
    "    return str1\n",
    "str1 = input(\"enter string : \")\n",
    "reverse_str(str1)"
   ]
  },
  {
   "cell_type": "code",
   "execution_count": null,
   "id": "8cc65493",
   "metadata": {},
   "outputs": [],
   "source": [
    "# Write a Python program to get a string made of the first 2 and the last 2 chars from a given a string. If  the string length \n",
    "# is less than 2,return instead of the empty string.\n",
    "\n",
    "# o Sample String:w3resource'\n",
    "# o Expected Result: 'w3ce'\n",
    "# o Sample String: 'w3'\n",
    "# o Expected Result: 'w3w3'\n",
    "# o Sample String: ' w'\n",
    "# o Expected Result: Empty String\n",
    "\n",
    "str1 = input(\"enter the string : \")\n",
    "if len(str\n",
    "       1) < 2:\n",
    "    print(\"empty string\")\n",
    "else:\n",
    "    print(str1[:2]+str1[-2:])"
   ]
  },
  {
   "cell_type": "code",
   "execution_count": null,
   "id": "cc958a47",
   "metadata": {
    "scrolled": true
   },
   "outputs": [],
   "source": [
    "# Write a Python function to insert a string in the middle of a string.\n",
    "\n",
    "def insert_middle(str1,word,str2):\n",
    "    index = str1.find(str2)\n",
    "    return str1[:index] + word + ' ' + str1[index:]\n",
    "str1 = input(\"enter string : \")\n",
    "str2 = input(\"enter word before which you want to enter : \")\n",
    "word = input(\"enter word to be entered\")\n",
    "insert_middle(str1,word,str2)"
   ]
  }
 ],
 "metadata": {
  "kernelspec": {
   "display_name": "Python 3 (ipykernel)",
   "language": "python",
   "name": "python3"
  },
  "language_info": {
   "codemirror_mode": {
    "name": "ipython",
    "version": 3
   },
   "file_extension": ".py",
   "mimetype": "text/x-python",
   "name": "python",
   "nbconvert_exporter": "python",
   "pygments_lexer": "ipython3",
   "version": "3.9.7"
  }
 },
 "nbformat": 4,
 "nbformat_minor": 5
}
