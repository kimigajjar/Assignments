{
 "cells": [
  {
   "cell_type": "code",
   "execution_count": null,
   "id": "3d398424",
   "metadata": {},
   "outputs": [],
   "source": [
    "# What is File function in python? What is keywords to create and write file\n",
    "\n",
    "# file function is nothing but function which returns the object of the file.it is used to create or modify the file.\n",
    "# with open('path','x') and open('path','w') we can create and write file.for writing in a file we can also use write() or writelines()"
   ]
  },
  {
   "cell_type": "code",
   "execution_count": null,
   "id": "bd2d04cd",
   "metadata": {},
   "outputs": [],
   "source": [
    "# Write a Python program to read an entire text file.\n",
    "\n",
    "f1 = open('sample.txt','r')\n",
    "f1.read()\n",
    "f1.close()"
   ]
  },
  {
   "cell_type": "code",
   "execution_count": null,
   "id": "a0725fc8",
   "metadata": {},
   "outputs": [],
   "source": [
    "# Write a Python program to append text to a file and display the text.\n",
    "\n",
    "f2 = open('sample.txt','a')\n",
    "f2.write('java language\\nweb programming\\npython is easy\\n')\n",
    "f2.close()\n",
    "\n",
    "f3 = open('sample.txt','r')\n",
    "print('after appending text..')\n",
    "f3.read()\n",
    "f3.close()\n"
   ]
  },
  {
   "cell_type": "code",
   "execution_count": null,
   "id": "16467b22",
   "metadata": {},
   "outputs": [],
   "source": [
    "# Write a Python program to read first n lines of a file.\n",
    "\n",
    "lines = int(input('enter number of lines to be read : '))\n",
    "f4 = open('sample.txt','r')\n",
    "for i in range(lines):\n",
    "    print(f4.readline())\n",
    "f4.close()"
   ]
  },
  {
   "cell_type": "code",
   "execution_count": null,
   "id": "1ecf4ab7",
   "metadata": {},
   "outputs": [],
   "source": [
    "# Write a Python program to read last n lines of a file.\n",
    "\n",
    "n = int(input('enter number of lines to be read from end : '))\n",
    "f5 = open('sample.txt','r')\n",
    "a = f5.readlines()\n",
    "print(a[-n:])\n",
    "f5.close()"
   ]
  },
  {
   "cell_type": "code",
   "execution_count": null,
   "id": "e5690c91",
   "metadata": {},
   "outputs": [],
   "source": [
    "# Write a Python program to read a file line by line and store it into a list\n",
    "\n",
    "file = open('sample.txt','r')\n",
    "# l1 = []\n",
    "# for i in file:\n",
    "#     l1.append(i)\n",
    "# print(l1)\n",
    "\n",
    "# -----------or----------\n",
    "\n",
    "a = file.readlines()\n",
    "print(a)\n",
    "file.close()"
   ]
  },
  {
   "cell_type": "code",
   "execution_count": null,
   "id": "86765419",
   "metadata": {},
   "outputs": [],
   "source": [
    "# Write a Python program to read a file line by line store it into a variable.\n",
    "\n",
    "f1 = open('test.txt','r')\n",
    "a = f1.readlines()\n",
    "for i in range(len(a)):\n",
    "    print(f'var{i+1} = ',a[i])\n",
    "f1.close()"
   ]
  },
  {
   "cell_type": "code",
   "execution_count": null,
   "id": "465cefa3",
   "metadata": {},
   "outputs": [],
   "source": [
    "# Write a python program to find the longest words.\n",
    "\n",
    "file = open('test.txt','r')\n",
    "a = file.readlines()\n",
    "max = len(a[0])\n",
    "t = a[0]\n",
    "for i in a:\n",
    "    if(len(i)>max):\n",
    "        max = len(i)\n",
    "        t = i\n",
    "print(f\"the longest word is {t} with length {max}\")\n",
    "file.close()"
   ]
  },
  {
   "cell_type": "code",
   "execution_count": null,
   "id": "c5568b78",
   "metadata": {},
   "outputs": [],
   "source": [
    "# Write a Python program to count the number of lines in a text file.\n",
    "\n",
    "f1 = open('sample.txt','r')\n",
    "count= len(f1.readlines())\n",
    "print(\"number of lines in a file = \",count)"
   ]
  },
  {
   "cell_type": "code",
   "execution_count": null,
   "id": "d0bc124f",
   "metadata": {},
   "outputs": [],
   "source": [
    "#  Write a Python program to count the frequency of words in a file.\n",
    "\n",
    "a=open('test.txt','r')\n",
    "d = dict()\n",
    "for i in a:\n",
    "    line = i.strip()\n",
    "    word = i.split(\" \")\n",
    "    for j in word:\n",
    "        if j in d:\n",
    "            d[j]=d[j]+1\n",
    "        else:\n",
    "            d[j]=1\n",
    "for i in (d.keys()):\n",
    "    print(f'{i}:{d[i]}')"
   ]
  },
  {
   "cell_type": "code",
   "execution_count": 8,
   "id": "eb8a6d7c",
   "metadata": {},
   "outputs": [],
   "source": [
    "# Write a Python program to write a list to a file.\n",
    "list1 = [1,2,3,4,5,'hii','how']\n",
    "f1 = open('test.txt','a')\n",
    "f1.write(str(list1))\n",
    "f1.close()"
   ]
  },
  {
   "cell_type": "code",
   "execution_count": 13,
   "id": "239da2eb",
   "metadata": {},
   "outputs": [],
   "source": [
    "# Write a Python program to copy the contents of a file to another file.\n",
    "\n",
    "a = open('sample.txt','w')\n",
    "b = open('test.txt','r')\n",
    "a.write(str(b.readlines()))\n",
    "a.close()\n",
    "b.close()"
   ]
  },
  {
   "cell_type": "code",
   "execution_count": null,
   "id": "f3d950b5",
   "metadata": {},
   "outputs": [],
   "source": [
    "# Explain Exception handling? What is an Error in Python?\n",
    "\n",
    "# exception handling is handling error while executing a program\n",
    "# errors are problems in the program ,when occur it stops the current execution"
   ]
  },
  {
   "cell_type": "code",
   "execution_count": null,
   "id": "7c8cbf5e",
   "metadata": {},
   "outputs": [],
   "source": [
    "# How many except statements can a try-except block have? Name Some built-in exception classes:\n",
    "\n",
    "# it can have min 1 except block\n",
    "# some built-in exception classes are:\n",
    "# AssertionError\n",
    "# ZeroDivisionError\n"
   ]
  },
  {
   "cell_type": "code",
   "execution_count": null,
   "id": "20318173",
   "metadata": {},
   "outputs": [],
   "source": [
    "# When will the else part of try-except-else be executed?\n",
    "\n",
    "# when no exception occurs"
   ]
  },
  {
   "cell_type": "code",
   "execution_count": null,
   "id": "27189be2",
   "metadata": {},
   "outputs": [],
   "source": [
    "# Can one block of except statements handle multiple exception?\n",
    "\n",
    "# no"
   ]
  },
  {
   "cell_type": "code",
   "execution_count": null,
   "id": "c8d5b14e",
   "metadata": {},
   "outputs": [],
   "source": [
    "# When is the finally block executed?\n",
    "\n",
    "# it will always execute after try-except block"
   ]
  },
  {
   "cell_type": "code",
   "execution_count": null,
   "id": "9c865874",
   "metadata": {},
   "outputs": [],
   "source": [
    "# What happens when „1‟== 1 is executed"
   ]
  },
  {
   "cell_type": "code",
   "execution_count": 15,
   "id": "ea7fe5ce",
   "metadata": {},
   "outputs": [
    {
     "name": "stdout",
     "output_type": "stream",
     "text": [
      "3\n",
      "finally block\n"
     ]
    }
   ],
   "source": [
    "# How Do You Handle Exceptions With Try/Except/Finally In Python? Explain with coding snippets.\n",
    "\n",
    "def f1(a,b):\n",
    "    a = a + b\n",
    "    return a\n",
    "try:\n",
    "    print(f1(1,2))\n",
    "except:\n",
    "    print('error')\n",
    "finally:\n",
    "    print('finally block')"
   ]
  },
  {
   "cell_type": "code",
   "execution_count": 19,
   "id": "088210ba",
   "metadata": {},
   "outputs": [
    {
     "name": "stdout",
     "output_type": "stream",
     "text": [
      "enter number :3\n"
     ]
    }
   ],
   "source": [
    "# Write python program that user to enter only odd numbers, else will raise an exception.\n",
    "\n",
    "try:\n",
    "    a = int(input(\"enter number :\"))\n",
    "    if a%2==0:\n",
    "        print('enter oddnumber')\n",
    "except:\n",
    "    print(\"enter again\")\n",
    "    a = int(input(\"enter odd number \"))\n",
    "    if a%2!=0:\n",
    "        print('odd num')"
   ]
  },
  {
   "cell_type": "code",
   "execution_count": null,
   "id": "d2d57ff8",
   "metadata": {},
   "outputs": [],
   "source": [
    "# What are oops concepts? Is multiple inheritance supported in java\n",
    "\n",
    "# oops are the concepts related to class and objects\n",
    "# yes"
   ]
  },
  {
   "cell_type": "code",
   "execution_count": 21,
   "id": "69a020c7",
   "metadata": {},
   "outputs": [
    {
     "name": "stdout",
     "output_type": "stream",
     "text": [
      "fruit name\n"
     ]
    }
   ],
   "source": [
    "# How to Define a Class in Python? What Is Self? Give An Example Of A Python Class\n",
    "\n",
    "# class in python is defined using the class keyword\n",
    "# self is nothing but points to the current instance of the class\n",
    "# example\n",
    "\n",
    "class A:\n",
    "    fruit_name = 'mango'\n",
    "    def fruit(self):\n",
    "        print('fruit name')\n",
    "o1 = A()\n",
    "o1.fruit()"
   ]
  },
  {
   "cell_type": "code",
   "execution_count": 24,
   "id": "4dea4adb",
   "metadata": {},
   "outputs": [
    {
     "name": "stdout",
     "output_type": "stream",
     "text": [
      "50\n"
     ]
    }
   ],
   "source": [
    "# Write a Python class named Rectangle constructed by a length and width and a method which will compute the area of a rectangle\n",
    "\n",
    "class Rectangle():\n",
    "    def __init__(self, l, w):\n",
    "        self.length = l\n",
    "        self.width  = w\n",
    "\n",
    "    def rectangle_area(self):\n",
    "        return self.length*self.width\n",
    "\n",
    "Rect = Rectangle(5, 10)\n",
    "print(Rect.rectangle_area())\n"
   ]
  },
  {
   "cell_type": "code",
   "execution_count": 25,
   "id": "5f8ef79d",
   "metadata": {},
   "outputs": [
    {
     "name": "stdout",
     "output_type": "stream",
     "text": [
      "78.5\n",
      "31.400000000000002\n"
     ]
    }
   ],
   "source": [
    "# Write a Python class named Circle constructed by a radius and two methods which will compute the area and the perimeter \n",
    "# of a circle\n",
    "\n",
    "class Circle():\n",
    "    def __init__(self, r):\n",
    "        self.radius = r\n",
    "\n",
    "    def area(self):\n",
    "        return self.radius**2*3.14\n",
    "    \n",
    "    def perimeter(self):\n",
    "        return 2*self.radius*3.14\n",
    "\n",
    "o1 = Circle(5)\n",
    "print(o1.area())\n",
    "print(o1.perimeter())"
   ]
  },
  {
   "cell_type": "code",
   "execution_count": null,
   "id": "5b7b1ec1",
   "metadata": {},
   "outputs": [],
   "source": [
    "# Explain Inheritance in Python with an example? What is init? Or What Is A Constructor In Python?\n",
    "\n",
    "# inheritance is the capability of one class to derive the properties from another class. \n",
    "# inti creates object in a class,it is a special method in class/it is also called as constructor\n",
    "\n",
    "class A:\n",
    "    school_name = 'gajera'\n",
    "    def __init__(self,age,height):\n",
    "        self.age=age\n",
    "        self.height=height\n",
    "    def name():\n",
    "        "
   ]
  },
  {
   "cell_type": "code",
   "execution_count": null,
   "id": "0792e723",
   "metadata": {},
   "outputs": [],
   "source": [
    "# What is Instantiation in terms of OOP terminology?"
   ]
  },
  {
   "cell_type": "code",
   "execution_count": null,
   "id": "459ee911",
   "metadata": {},
   "outputs": [],
   "source": [
    "# What is used to check whether an object o is an instance of class A?\n"
   ]
  },
  {
   "cell_type": "code",
   "execution_count": null,
   "id": "2bc5bfdd",
   "metadata": {},
   "outputs": [],
   "source": [
    "# What relationship is appropriate for Course and Faculty?\n"
   ]
  },
  {
   "cell_type": "code",
   "execution_count": null,
   "id": "de65333e",
   "metadata": {},
   "outputs": [],
   "source": [
    "# What relationship is appropriate for Student and Person?"
   ]
  }
 ],
 "metadata": {
  "kernelspec": {
   "display_name": "Python 3 (ipykernel)",
   "language": "python",
   "name": "python3"
  },
  "language_info": {
   "codemirror_mode": {
    "name": "ipython",
    "version": 3
   },
   "file_extension": ".py",
   "mimetype": "text/x-python",
   "name": "python",
   "nbconvert_exporter": "python",
   "pygments_lexer": "ipython3",
   "version": "3.9.7"
  }
 },
 "nbformat": 4,
 "nbformat_minor": 5
}
