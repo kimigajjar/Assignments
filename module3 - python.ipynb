{
 "cells": [
  {
   "cell_type": "code",
   "execution_count": null,
   "id": "cb65e2d6",
   "metadata": {},
   "outputs": [],
   "source": [
    "# What is List? How will you reverse a list?\n",
    "\n",
    "# list is a collection data type in python.it is used to store multiple elements(like string,int,list,tuple,dict,set).\n",
    "# lists are mutable,ordered,indexed and it also allows duplicates.\n",
    "# reverse() method of list is used to reverse a list."
   ]
  },
  {
   "cell_type": "code",
   "execution_count": null,
   "id": "0b4e08a0",
   "metadata": {},
   "outputs": [],
   "source": [
    "# How will you remove last object from a list?\n",
    "\n",
    "# to remove last object from a list we can use pop() method as pop() removes last element by default."
   ]
  },
  {
   "cell_type": "code",
   "execution_count": null,
   "id": "8250babc",
   "metadata": {},
   "outputs": [],
   "source": [
    "# Suppose list1 is [2, 33, 222, 14, and 25], what is list1 [-1]?\n",
    "# list1 = [2,33,222,14,25]\n",
    "# list1[-1] = 25"
   ]
  },
  {
   "cell_type": "code",
   "execution_count": null,
   "id": "0099b74a",
   "metadata": {},
   "outputs": [],
   "source": [
    "# Differentiate between append () and extend () methods?\n",
    "\n",
    "# append() method adds the value at last in the specified string and also adds whole list1 as an  single item in list\n",
    "\n",
    "# list1.extend(list2) # adds list 2 elements to list1 ands returns output as a new list"
   ]
  },
  {
   "cell_type": "code",
   "execution_count": null,
   "id": "280b5e20",
   "metadata": {},
   "outputs": [],
   "source": [
    "# Write a Python function to get the largest number, smallest num and sum of all from a list.\n",
    "\n",
    "l1 = []\n",
    "sum = 0\n",
    "a = int(input(\"enter how many elements you want in a list : \"))\n",
    "for i in range(a):\n",
    "    b = int(input(\"enter number to add in list : \"))\n",
    "    l1.append(b)\n",
    "\n",
    "for i in l1:\n",
    "    sum += i\n",
    "print(\"sum of all elements in a list = \",sum)\n",
    "print(\"largest number = \",max(l1))\n",
    "print(\"smallest number = \",min(l1))"
   ]
  },
  {
   "cell_type": "code",
   "execution_count": null,
   "id": "a33cef63",
   "metadata": {},
   "outputs": [],
   "source": [
    "# How will you compare two lists?\n",
    "\n",
    "list1 = [2,5,3,7,9]\n",
    "list2 = [2,3,5,9,7]\n",
    "a = list1.sort()\n",
    "b = list2.sort()\n",
    "if a == b:\n",
    "    print(\"lists are equal\")\n",
    "else :\n",
    "    print(\"lists are not equal\")"
   ]
  },
  {
   "cell_type": "code",
   "execution_count": null,
   "id": "9c55c896",
   "metadata": {},
   "outputs": [],
   "source": [
    "# Write a Python program to count the number of strings where the string length is 2 or more and the first and last character\n",
    "# are same from a given list of strings.\n",
    "\n",
    "list1 = []\n",
    "count = 0\n",
    "a = int(input(\"enter how many elements you want in a list : \"))\n",
    "for i in range(a):\n",
    "    b = input(\"enter number to add in list : \")\n",
    "    list1.append(b)\n",
    "print(list1)\n",
    "for i in list1:\n",
    "    if len(i) >= 2 and i[0] == i[-1] :\n",
    "        count += 1\n",
    "print(\"number of string with the above given condition = \",count)"
   ]
  },
  {
   "cell_type": "code",
   "execution_count": null,
   "id": "299870ba",
   "metadata": {},
   "outputs": [],
   "source": [
    "# Write a Python program to remove duplicates from a list.\n",
    "\n",
    "list1 = [1,2,3,1,4,5,5,6,7]\n",
    "list2 = []\n",
    "for i in list1 :\n",
    "    if i not in list2:\n",
    "        list2.append(i)\n",
    "print(list2)"
   ]
  },
  {
   "cell_type": "code",
   "execution_count": null,
   "id": "5f829f79",
   "metadata": {},
   "outputs": [],
   "source": [
    "# Write a Python program to check a list is empty or not.\n",
    "\n",
    "list1 = []\n",
    "a = int(input(\"enter how many elements you want in a list : \"))\n",
    "for i in range(a):\n",
    "    b = input(\"enter number to add in list : \")\n",
    "    list1.append(b)\n",
    "if len(list1) == 0 :\n",
    "    print(\"list is empty!!\")\n",
    "else:\n",
    "    print(\"list is not empty!!\")"
   ]
  },
  {
   "cell_type": "code",
   "execution_count": null,
   "id": "31911320",
   "metadata": {},
   "outputs": [],
   "source": [
    "# Write a Python function that takes two lists and returns true if they have at least one common member.\n",
    "\n",
    "def fun(list1,list2):\n",
    "    answer = False\n",
    "    for i in list1:\n",
    "        for j in list2:\n",
    "            if i == j:\n",
    "                answer = True\n",
    "            return answer\n",
    "list1 = [1,2,3,4,5]\n",
    "list2 = [1,5,7,8,9]\n",
    "fun(list1,list2)"
   ]
  },
  {
   "cell_type": "code",
   "execution_count": null,
   "id": "d9fc6323",
   "metadata": {},
   "outputs": [],
   "source": [
    "##### Write a Python program to generate and print a list of first and last 5 elements where the values are square of numbers \n",
    "# between 1 and 30.\n",
    "\n",
    "list1 = []\n",
    "list2 = []\n",
    "for i in range(1,31):\n",
    "    list1.append(i**2)\n",
    "list2.extend(list1[:5])\n",
    "list2.extend(list1[-5:])\n",
    "print(list2)\n",
    "\n"
   ]
  },
  {
   "cell_type": "code",
   "execution_count": null,
   "id": "67533b85",
   "metadata": {},
   "outputs": [],
   "source": [
    "# Write a Python function that takes a list and returns a new list with unique elements of the first list.\n",
    "\n",
    "def fun(list1):\n",
    "    new_list = []\n",
    "    for i in list1:\n",
    "        if i not in new_list:\n",
    "            new_list.append(i)\n",
    "    return new_list\n",
    "list1 = [2,4,5,6,6,4,78,8,78,99,99]\n",
    "fun(list1)"
   ]
  },
  {
   "cell_type": "code",
   "execution_count": null,
   "id": "e647a49d",
   "metadata": {},
   "outputs": [],
   "source": [
    "# Write a Python program to convert a list of characters into a string.\n",
    "\n",
    "list1 = ['a','b','c','d','e']\n",
    "str = ''.join(list1)\n",
    "print(str)"
   ]
  },
  {
   "cell_type": "code",
   "execution_count": null,
   "id": "bfdd2a26",
   "metadata": {},
   "outputs": [],
   "source": [
    "# Write a Python program to select an item randomly from a list.\n",
    "import random as rd\n",
    "\n",
    "list1 = ['a','b','c','d','e']\n",
    "print(rd.choice(list1))"
   ]
  },
  {
   "cell_type": "code",
   "execution_count": null,
   "id": "7eb4278d",
   "metadata": {},
   "outputs": [],
   "source": [
    "# Write a Python program to find the second smallest number in a list.\n",
    "\n",
    "list1 = []\n",
    "a = int(input(\"enter how many elements you want in a list : \"))\n",
    "for i in range(a):\n",
    "    b = input(\"enter number to add in list : \")\n",
    "    list1.append(b)\n",
    "list1.sort()\n",
    "print(\"second smallest number in a list is \",list1[1])"
   ]
  },
  {
   "cell_type": "code",
   "execution_count": null,
   "id": "3c58865f",
   "metadata": {},
   "outputs": [],
   "source": [
    "# Write a Python program to check whether a list contains a sub list\n"
   ]
  },
  {
   "cell_type": "code",
   "execution_count": null,
   "id": "b159aa1a",
   "metadata": {},
   "outputs": [],
   "source": [
    "# Write a Python program to split a list into different variables.\n",
    "\n",
    "list1 = [1,'hello',[6,7,8,89,9],(4,5,6,7,8),99.99]\n",
    "a,b,c,d,e = list1\n",
    "print('a = ',a)\n",
    "print('b = ',b)\n",
    "print('c = ',c)\n",
    "print('d = ',d)\n",
    "print('e = ',e)"
   ]
  },
  {
   "cell_type": "code",
   "execution_count": null,
   "id": "5c5062e4",
   "metadata": {},
   "outputs": [],
   "source": [
    "# What is tuple? Difference between list and tuple.\n",
    "\n",
    "# tuple is a built in collection data type in python.\n",
    "# represented by () brackets\n",
    "\n",
    "# the main diffrence between list and tuple is : list is mutable and tuple is immutable."
   ]
  },
  {
   "cell_type": "code",
   "execution_count": null,
   "id": "5c9d09d9",
   "metadata": {},
   "outputs": [],
   "source": [
    "# Write a Python program to create a tuple with different data types.\n",
    "\n",
    "t1 = (1,2.3,'hello',[1,2,3,4],(2,3,4,5),{5,6,7,8},{1:5})\n",
    "print(t1)"
   ]
  },
  {
   "cell_type": "code",
   "execution_count": null,
   "id": "3541628d",
   "metadata": {},
   "outputs": [],
   "source": [
    "# Write a Python program to create a tuple with numbers.\n",
    "\n",
    "t1 = (2,3,4,5,6,7)\n",
    "print(t1)"
   ]
  },
  {
   "cell_type": "code",
   "execution_count": null,
   "id": "faac3a4e",
   "metadata": {},
   "outputs": [],
   "source": [
    "## Write a Python program to convert a tuple to a string.\n",
    "\n",
    "n = int(input(\"enter how many elements you want in tuple : \"))\n",
    "l1 = []\n",
    "for i in range(n):\n",
    "    a = input(\"enter element : \")\n",
    "    l1.append(a)\n",
    "t1 = tuple(l1)\n",
    "str = ''.join(t1)\n",
    "print(str)\n"
   ]
  },
  {
   "cell_type": "code",
   "execution_count": null,
   "id": "74a657c6",
   "metadata": {},
   "outputs": [],
   "source": [
    "# Write a Python program to check whether an element exists within a tuple.\n",
    "\n",
    "t1=(1,3,3,4,5,5,56,6)\n",
    "if len(t1)==0:\n",
    "    print(\"element does not exist!!!\")\n",
    "else:\n",
    "    print(\"element exists!!!\")"
   ]
  },
  {
   "cell_type": "code",
   "execution_count": null,
   "id": "3270737b",
   "metadata": {},
   "outputs": [],
   "source": [
    "# Write a Python program to find the length of a tuple.\n",
    "\n",
    "t1=(1,3,3,4,5,5,56,6)\n",
    "print(len(t1))"
   ]
  },
  {
   "cell_type": "code",
   "execution_count": null,
   "id": "d0247ed1",
   "metadata": {},
   "outputs": [],
   "source": [
    "# Write a Python program to convert a list to a tuple.\n",
    "\n",
    "list1 = [3,4,5,6,78]\n",
    "list1 = tuple(list1)\n",
    "print(list1)"
   ]
  },
  {
   "cell_type": "code",
   "execution_count": null,
   "id": "9d7d3d16",
   "metadata": {},
   "outputs": [],
   "source": [
    "# Write a Python program to reverse a tuple.\n",
    "\n",
    "tuple1 = (55,66,78,88,99)\n",
    "tuple2 = tuple1[-1::-1]\n",
    "print(tuple2)"
   ]
  },
  {
   "cell_type": "code",
   "execution_count": null,
   "id": "736ed16a",
   "metadata": {},
   "outputs": [],
   "source": [
    "# Write a Python program to replace last value of tuples in a list.\n",
    "\n",
    "list1 = [(5,6,7),(77,88,99),(44,55,66)]\n",
    "print([i[:-1]+(10,) for i in list1])"
   ]
  },
  {
   "cell_type": "code",
   "execution_count": null,
   "id": "d2c0f98f",
   "metadata": {},
   "outputs": [],
   "source": [
    "# Write a Python program to find the repeated items of a tuple.\n",
    "\n",
    "t1 = (22,33,44,55,22,1,2,1,3,2,1,4,3,33,22,4)\n",
    "l1 =[]\n",
    "for i in t1:\n",
    "    t1.count(i)\n",
    "    if ((t1.count(i) > 1) and (i not in l1)):\n",
    "        l1.append(i)\n",
    "print(\"repeated items in a tuple are : \",l1)"
   ]
  },
  {
   "cell_type": "code",
   "execution_count": null,
   "id": "708e6496",
   "metadata": {},
   "outputs": [],
   "source": [
    "# Write a Python program to remove an empty tuple(s) from a list of tuples.\n",
    "\n",
    "list1 = [(1,2,3,4),(2,55,66,77),(),(0,9,8,7),(),(76,77,5,4)]\n",
    "a = [i for i in list1 if i]\n",
    "print(a)"
   ]
  },
  {
   "cell_type": "code",
   "execution_count": null,
   "id": "756d6e9f",
   "metadata": {},
   "outputs": [],
   "source": [
    "# Write a Python program to unzip a list of tuples into individual lists.\n",
    "\n",
    "a = [('abc','def','ghi'),(3,4,5),(6,7,8,9),(10,11,12,13,14),(),(\"\",)]\n",
    "for i in a:\n",
    "    print(list(i),end = ' ')"
   ]
  },
  {
   "cell_type": "code",
   "execution_count": null,
   "id": "b5b50739",
   "metadata": {},
   "outputs": [],
   "source": [
    "# Write a Python program to convert a list of tuples into a dictionary.\n",
    "\n",
    "list1 = [(1,'a'),(3,'b'),(5,'c'),('a',0),('c',1),('e',2)]\n",
    "print(dict(list1))"
   ]
  },
  {
   "cell_type": "code",
   "execution_count": null,
   "id": "297a1050",
   "metadata": {},
   "outputs": [],
   "source": [
    "# How will you create a dictionary using tuples in python?\n",
    "\n",
    "# to create a dictionary using tuples we will use the dict() method,where dict method will take the tuple as an argument and will \n",
    "# return dict as a key value pair."
   ]
  },
  {
   "cell_type": "code",
   "execution_count": null,
   "id": "fd30ad48",
   "metadata": {},
   "outputs": [],
   "source": [
    "# Write a Python script to sort (ascending and descending) a dictionary by value.\n",
    "\n",
    "dict1 = {'a':12,'b':44,'c':3,'d':99,'e':65,'f':25}\n",
    "\n",
    "# Ascending order\n",
    "\n",
    "l1 = []\n",
    "dict2 = {}\n",
    "dict3 = {}\n",
    "for i in dict1:\n",
    "    l1.append(dict1[i])\n",
    "l1.sort()\n",
    "for i in l1:\n",
    "    for j in dict1:\n",
    "        if dict1[j] == i:\n",
    "            dict2.update({j:i})\n",
    "print(\"Ascending order : \",dict2)\n",
    "\n",
    "# Descending order\n",
    "\n",
    "l1.sort(reverse=True)\n",
    "for i in l1:\n",
    "    for j in dict1:\n",
    "        if dict1[j] == i:\n",
    "            dict3.update({j:i})\n",
    "print(\"Descending order : \",dict3)"
   ]
  },
  {
   "cell_type": "code",
   "execution_count": null,
   "id": "5d219ab1",
   "metadata": {},
   "outputs": [],
   "source": [
    "# Write a Python script to concatenate following dictionaries to create a new one.\n",
    "\n",
    "dict1 = {1:'a',2:'b'}\n",
    "dict2 = {3:'c',4:'e','hello':'python'}\n",
    "dict3 = {5:'f',6:'g',7:'h'}\n",
    "dict4 = {}\n",
    "for i in dict1,dict2,dict3:\n",
    "    dict4.update(i)\n",
    "print(dict4)"
   ]
  },
  {
   "cell_type": "code",
   "execution_count": null,
   "id": "aab08adf",
   "metadata": {},
   "outputs": [],
   "source": [
    "# Write a Python script to check if a given key already exists in a dictionary.\n",
    "\n",
    "def key_check(dict,key):\n",
    "    if key in dict:\n",
    "        print(f\"key already exists with value {dict[key]}\")\n",
    "    else:\n",
    "        print(\"key does not exists\")\n",
    "dict = {'a':12,'b':44,'c':3,'d':99,'e':65,'f':25}\n",
    "key = input(\"enter the key : \")\n",
    "key_check(dict,key)"
   ]
  },
  {
   "cell_type": "code",
   "execution_count": null,
   "id": "d22f1aeb",
   "metadata": {},
   "outputs": [],
   "source": [
    "# How Do You Traverse Through A Dictionary Object In Python?\n",
    "\n",
    "# we can traverse through a dictionary object in python in the following ways:\n",
    "# -> using bulid in function .keys(),which will return the keys in the dict\n",
    "# -> using bulid in function .values(),which will return the values in the dict\n",
    "# -> using bulid in function .items(),which will return the key & value pair in the dict"
   ]
  },
  {
   "cell_type": "code",
   "execution_count": null,
   "id": "756ea7e3",
   "metadata": {},
   "outputs": [],
   "source": [
    "# How Do You Check The Presence Of A Key In A Dictionary?\n",
    "\n",
    "# Using has_key() method it returns true if a given key is available in the dictionary, otherwise, it returns a false. \n",
    "# With the Inbuilt method has_key(),  we use the if statement to check if the key is present in the dictionary or not. "
   ]
  },
  {
   "cell_type": "code",
   "execution_count": 4,
   "id": "47b9d26c",
   "metadata": {},
   "outputs": [
    {
     "name": "stdout",
     "output_type": "stream",
     "text": [
      "{2: 3, 3: 4, 4: 5, 5: 6, 6: 7, 7: 8, 8: 9, 9: 10, 10: 11, 11: 12, 12: 13, 13: 14, 14: 15}\n",
      "{3: 'c', 4: 'e', 5: 'tina', 9: 81}\n"
     ]
    }
   ],
   "source": [
    "# Write a Python script to print a dictionary where the keys are numbers between 1 and 15.\n",
    "\n",
    "dict1 = dict()\n",
    "for i in range(2,15):\n",
    "    dict1[i] = i+1\n",
    "print(dict1)\n",
    "\n",
    "# ************************ OR **************************\n",
    "\n",
    "d1 = {3:'c',4:'e','hello':'python','hii':'byee',5:'tina',9:81,6.7:8.9,77:66,15:15}\n",
    "d2 = {}\n",
    "for i in d1:\n",
    "    if type(i) == int and i<15:\n",
    "        d2.setdefault(i,d1[i])\n",
    "print(d2)"
   ]
  },
  {
   "cell_type": "code",
   "execution_count": null,
   "id": "7ce91b56",
   "metadata": {},
   "outputs": [],
   "source": [
    "# Write a Python program to check multiple keys exists in a dictionary\n",
    "\n"
   ]
  },
  {
   "cell_type": "code",
   "execution_count": 5,
   "id": "41d1a198",
   "metadata": {},
   "outputs": [
    {
     "name": "stdout",
     "output_type": "stream",
     "text": [
      "{1: 'a', 2: 'b', 3: 'c', 4: 'e', 'hello': 'python'}\n"
     ]
    }
   ],
   "source": [
    "# Write a Python script to merge two Python dictionaries\n",
    "\n",
    "dict1 = {1:'a',2:'b'}\n",
    "dict2 = {3:'c',4:'e','hello':'python'}\n",
    "dict3 = dict1.copy()\n",
    "dict3.update(dict2)\n",
    "print(dict3)"
   ]
  },
  {
   "cell_type": "code",
   "execution_count": null,
   "id": "0781832c",
   "metadata": {},
   "outputs": [],
   "source": [
    "# Write a Python program to map two lists into a dictionary\n",
    "\n",
    "key = [1,2,3,4,5]\n",
    "value = ['a','b','c','d','e']\n",
    "d = {}\n",
    "for i in range(len(key)):\n",
    "    d.setdefault(key[i],value[i])\n",
    "print(d)"
   ]
  },
  {
   "cell_type": "code",
   "execution_count": 8,
   "id": "42bddb73",
   "metadata": {},
   "outputs": [
    {
     "name": "stdout",
     "output_type": "stream",
     "text": [
      "{'a': 400, 'b': 200, 'c': 400, 'f': 900, 'd': 500}\n"
     ]
    }
   ],
   "source": [
    "# Write a Python program to combine two dictionary adding values for common keys.\n",
    "\n",
    "\n",
    "dict1 = {'a': 100, 'b': 200, 'c':300,'d':500,}\n",
    "dict2 = {'a': 300, 'b': 200,'c':400,'f':900}\n",
    "dict3 = {}\n",
    "for i in dict1:\n",
    "    for j in dict2:\n",
    "        if i == j:\n",
    "            dict3.setdefault(i,dict1[i]+dict2[j])\n",
    "        else:\n",
    "            dict3.setdefault(i,dict1[i])\n",
    "            dict3.setdefault(j,dict2[j])\n",
    "\n",
    "print(dict3)\n",
    "#  sample output : {'a':27,'b':54,'c':33,'d':99,'e':65,'f':45}"
   ]
  },
  {
   "cell_type": "code",
   "execution_count": null,
   "id": "fc6fd4b7",
   "metadata": {},
   "outputs": [],
   "source": [
    "# Write a Python program to print all unique values in a dictionary.\n",
    "\n",
    "dict1 = {'a':12,'b':44,'c':3,'d':44,'e':65,'f':3,'hello':[1,2,3,4],'hii':'seema'}\n",
    "list1 = []\n",
    "for value in dict1.values():\n",
    "    if value not in list1:\n",
    "        list1.append(value)\n",
    "    else:\n",
    "        continue\n",
    "print(list1)"
   ]
  },
  {
   "cell_type": "code",
   "execution_count": 21,
   "id": "0b47f56c",
   "metadata": {},
   "outputs": [
    {
     "name": "stdout",
     "output_type": "stream",
     "text": [
      "[(1, 5), (2, 6), (3, 7), (4, 8)]\n"
     ]
    }
   ],
   "source": [
    "# Why Do You Use the Zip () Method in Python?\n",
    "\n",
    "# we use the zip() method in python because this method creates an iterable that will aggregate the two or more iterable.\n",
    "\n",
    "# example :\n",
    "\n",
    "# l1 = [1,2,3,4]\n",
    "# l2 = [5,6,7,8]\n",
    "# l3 = zip(l1,l2)\n",
    "# print(list(l3))\n",
    "\n",
    "# o/p : [(1, 5), (2, 6), (3, 7), (4, 8)]\n"
   ]
  },
  {
   "cell_type": "code",
   "execution_count": 17,
   "id": "3e122a6a",
   "metadata": {},
   "outputs": [
    {
     "name": "stdout",
     "output_type": "stream",
     "text": [
      "a c\n",
      "a d\n",
      "b c\n",
      "b d\n"
     ]
    }
   ],
   "source": [
    "# Write a Python program to create and display all combinations of letters,selecting each letter from a different key in a\n",
    "# dictionary.\n",
    "dict1={'1': ['a','b'], '2': ['c','d']}\n",
    "list1=[]\n",
    "\n",
    "list1=list(dict1.values())\n",
    "for i in range(len(list1)):\n",
    "    for j in range(len(list1)):\n",
    "        print(list1[0][i],list1[1][j])\n"
   ]
  },
  {
   "cell_type": "code",
   "execution_count": null,
   "id": "938b9476",
   "metadata": {},
   "outputs": [],
   "source": [
    "# Write a Python program to find the highest 3 values in a dictionary\n",
    "\n",
    "d = {'a':12,'b':44,'c':3,'d':99,'e':65,'f':25}\n",
    "l1=list(d.values())\n",
    "l1.sort()\n",
    "print(\"highest three values in dictionary are : \",l1[-3:])\n"
   ]
  },
  {
   "cell_type": "code",
   "execution_count": 3,
   "id": "985ad298",
   "metadata": {},
   "outputs": [],
   "source": [
    "# Write a Python program to combine values in python list of dictionaries. \n",
    "# Sample data: [{'item': 'item1', 'amount': 400}, {'item': 'item2', 'amount': 300},{'item': 'item1', 'amount': 750}]\n",
    "# o Expected Output: Counter ({'item1': 1150, 'item2': 300})\n"
   ]
  },
  {
   "cell_type": "code",
   "execution_count": null,
   "id": "f7b441c3",
   "metadata": {},
   "outputs": [],
   "source": [
    "# Write a Python program to create a dictionary from a string.\n",
    "# o Note: Track the count of the letters from the string. Sample string:\n",
    "# 'w3resource'\n",
    "# o Expected output: {'3': 1,’s’: 1, 'r': 2, 'u': 1, 'w': 1, 'c': 1, 'e': 2, 'o': 1}\n",
    "\n",
    "string = input(\"enter string : \")\n",
    "d1 = {}\n",
    "for i in string:\n",
    "    if i in d1:\n",
    "        d1[i]+=1\n",
    "    else:\n",
    "        d1[i]=1\n",
    "print(d1)"
   ]
  },
  {
   "cell_type": "code",
   "execution_count": null,
   "id": "2c5dd2bd",
   "metadata": {},
   "outputs": [],
   "source": [
    "# Write a Python function to calculate the factorial of a number (a non\u0002negative integer)\n",
    "\n",
    "def fact(num):\n",
    "    if num > 1:\n",
    "        return num*fact(num - 1)\n",
    "    else:\n",
    "        return num\n",
    "num = int(input(\"enter number : \"))\n",
    "fact(num)"
   ]
  },
  {
   "cell_type": "code",
   "execution_count": 24,
   "id": "b7312849",
   "metadata": {},
   "outputs": [
    {
     "name": "stdout",
     "output_type": "stream",
     "text": [
      "enter the number : 25\n",
      "enter starting range : 20\n",
      "enter ending range : 40\n",
      "given number is in a range....\n"
     ]
    }
   ],
   "source": [
    "# Write a Python function to check whether a number is in a given range.\n",
    "\n",
    "def find(num,l,r):\n",
    "    if num>=l and num<=r:\n",
    "        print('given number is in a range....')\n",
    "    else:\n",
    "        print('given number is not in a range....')\n",
    "\n",
    "num = int(input(\"enter the number : \"))\n",
    "l = int(input(\"enter starting range : \"))\n",
    "r = int(input(\"enter ending range : \"))\n",
    "find(num,l,r)"
   ]
  },
  {
   "cell_type": "code",
   "execution_count": null,
   "id": "41154e40",
   "metadata": {},
   "outputs": [],
   "source": [
    "# Que :Write a Python function to check whether a number is perfect or not.\n",
    "\n",
    "# A perfect number is a number which is equal to the sum of its proper divisors\n",
    "# i.e. all its divisors including 1 but not the number itself. \n",
    "# example :1+2+3 = 6\n",
    "\n",
    "def check(nim):\n",
    "    sum = 0\n",
    "    for i in range(1,num):\n",
    "        if num % i == 0:\n",
    "            sum += i\n",
    "        else:\n",
    "            continue\n",
    "    return sum == num\n",
    "num = int(input(\"enter the number: \"))\n",
    "check(num)"
   ]
  },
  {
   "cell_type": "code",
   "execution_count": 4,
   "id": "6cc5e77a",
   "metadata": {},
   "outputs": [
    {
     "name": "stdout",
     "output_type": "stream",
     "text": [
      "enter string : woow\n",
      "yes it is a palindrome\n"
     ]
    }
   ],
   "source": [
    "# Write a Python function that checks whether a passed string is palindrome or not\n",
    "\n",
    "def fun(string):\n",
    "    if string == string[::-1]:\n",
    "        print(\"yes it is a palindrome\")\n",
    "    else:\n",
    "        print(\"it is not a palindrome\")\n",
    "\n",
    "string = input(\"enter string : \")\n",
    "fun(string)\n"
   ]
  },
  {
   "cell_type": "code",
   "execution_count": null,
   "id": "33a3602b",
   "metadata": {},
   "outputs": [],
   "source": [
    "# How do you perform pattern matching in Python? Explain"
   ]
  },
  {
   "cell_type": "code",
   "execution_count": null,
   "id": "e8469590",
   "metadata": {},
   "outputs": [],
   "source": [
    "# What is lambda function in python? What we call a function which is incomplete version of a function"
   ]
  },
  {
   "cell_type": "code",
   "execution_count": null,
   "id": "26668885",
   "metadata": {},
   "outputs": [],
   "source": [
    "# How Many Basic Types Of Functions Are Available In Python"
   ]
  },
  {
   "cell_type": "code",
   "execution_count": 7,
   "id": "271e16e5",
   "metadata": {},
   "outputs": [],
   "source": [
    "# How Many Basic Types Of Functions Are Available In Python"
   ]
  },
  {
   "cell_type": "code",
   "execution_count": null,
   "id": "dca3f08d",
   "metadata": {},
   "outputs": [],
   "source": [
    "# How can you pick a random item from a range?"
   ]
  },
  {
   "cell_type": "code",
   "execution_count": null,
   "id": "89167106",
   "metadata": {},
   "outputs": [],
   "source": [
    "# How will you set the starting value in generating random numbers?"
   ]
  },
  {
   "cell_type": "code",
   "execution_count": null,
   "id": "61972fc3",
   "metadata": {},
   "outputs": [],
   "source": [
    "# How will you randomizes the items of a list in place"
   ]
  },
  {
   "cell_type": "code",
   "execution_count": null,
   "id": "b87acad2",
   "metadata": {},
   "outputs": [],
   "source": [
    "#  Write a Python program to read a random line from a file.\n"
   ]
  },
  {
   "cell_type": "code",
   "execution_count": null,
   "id": "5ee4cabe",
   "metadata": {},
   "outputs": [],
   "source": [
    "#  Write a Python program to read a random line from a file.\n"
   ]
  },
  {
   "cell_type": "code",
   "execution_count": null,
   "id": "3e8bc868",
   "metadata": {},
   "outputs": [],
   "source": [
    "# Write a Python program to convert degree to radian\n",
    " "
   ]
  },
  {
   "cell_type": "code",
   "execution_count": null,
   "id": "cb588ce3",
   "metadata": {},
   "outputs": [],
   "source": [
    "# Write a Python program to calculate the area of a trapezoid"
   ]
  },
  {
   "cell_type": "code",
   "execution_count": null,
   "id": "7f5b1dbb",
   "metadata": {},
   "outputs": [],
   "source": [
    "#  Write a Python program to calculate the area of a parallelogram\n"
   ]
  },
  {
   "cell_type": "code",
   "execution_count": null,
   "id": "82bb8db6",
   "metadata": {},
   "outputs": [],
   "source": [
    "# Write a Python program to calculate surface volume and area of a cylinder"
   ]
  },
  {
   "cell_type": "code",
   "execution_count": null,
   "id": "4cd75f82",
   "metadata": {},
   "outputs": [],
   "source": [
    "#  Write a Python program to returns sum of all divisors of a number\n"
   ]
  },
  {
   "cell_type": "code",
   "execution_count": null,
   "id": "4cc07797",
   "metadata": {},
   "outputs": [],
   "source": [
    "# Write a Python program to find the maximum and minimum numbers from the specified decimal numbers.\n"
   ]
  }
 ],
 "metadata": {
  "kernelspec": {
   "display_name": "Python 3 (ipykernel)",
   "language": "python",
   "name": "python3"
  },
  "language_info": {
   "codemirror_mode": {
    "name": "ipython",
    "version": 3
   },
   "file_extension": ".py",
   "mimetype": "text/x-python",
   "name": "python",
   "nbconvert_exporter": "python",
   "pygments_lexer": "ipython3",
   "version": "3.9.7"
  }
 },
 "nbformat": 4,
 "nbformat_minor": 5
}
