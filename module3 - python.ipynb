{
 "cells": [
  {
   "cell_type": "code",
   "execution_count": null,
   "id": "cb65e2d6",
   "metadata": {},
   "outputs": [],
   "source": [
    "# What is List? How will you reverse a list?\n",
    "\n",
    "# list is a collection data type in python.it is used to store multiple elements(like string,int,list,tuple,dict,set).\n",
    "# lists are mutable,ordered,indexed and it also allows duplicates.\n",
    "# reverse() method of list is used to reverse a list."
   ]
  },
  {
   "cell_type": "code",
   "execution_count": null,
   "id": "0b4e08a0",
   "metadata": {},
   "outputs": [],
   "source": [
    "# How will you remove last object from a list?\n",
    "\n",
    "# to remove last object from a list we can use pop() method as pop() removes last element by default."
   ]
  },
  {
   "cell_type": "code",
   "execution_count": null,
   "id": "8250babc",
   "metadata": {},
   "outputs": [],
   "source": [
    "# Suppose list1 is [2, 33, 222, 14, and 25], what is list1 [-1]?\n",
    "# list1 = [2,33,222,14,25]\n",
    "# list1[-1] = 25"
   ]
  },
  {
   "cell_type": "code",
   "execution_count": null,
   "id": "0099b74a",
   "metadata": {},
   "outputs": [],
   "source": [
    "# Differentiate between append () and extend () methods?\n",
    "\n",
    "# append() method adds the value at last in the specified string and also adds whole list1 as an  single item in list\n",
    "\n",
    "# list1.extend(list2) # adds list 2 elements to list1 ands returns output as a new list"
   ]
  },
  {
   "cell_type": "code",
   "execution_count": null,
   "id": "280b5e20",
   "metadata": {},
   "outputs": [],
   "source": [
    "# Write a Python function to get the largest number, smallest num and sum of all from a list.\n",
    "\n",
    "l1 = []\n",
    "sum = 0\n",
    "a = int(input(\"enter how many elements you want in a list : \"))\n",
    "for i in range(a):\n",
    "    b = int(input(\"enter number to add in list : \"))\n",
    "    l1.append(b)\n",
    "\n",
    "for i in l1:\n",
    "    sum += i\n",
    "print(\"sum of all elements in a list = \",sum)\n",
    "print(\"largest number = \",max(l1))\n",
    "print(\"smallest number = \",min(l1))"
   ]
  },
  {
   "cell_type": "code",
   "execution_count": null,
   "id": "a33cef63",
   "metadata": {},
   "outputs": [],
   "source": [
    "# How will you compare two lists?\n",
    "\n",
    "list1 = [2,5,3,7,9]\n",
    "list2 = [2,3,5,9,7]\n",
    "a = list1.sort()\n",
    "b = list2.sort()\n",
    "if a == b:\n",
    "    print(\"lists are equal\")\n",
    "else :\n",
    "    print(\"lists are not equal\")"
   ]
  },
  {
   "cell_type": "code",
   "execution_count": null,
   "id": "9c55c896",
   "metadata": {},
   "outputs": [],
   "source": [
    "# Write a Python program to count the number of strings where the string length is 2 or more and the first and last character\n",
    "# are same from a given list of strings.\n",
    "\n",
    "list1 = []\n",
    "count = 0\n",
    "a = int(input(\"enter how many elements you want in a list : \"))\n",
    "for i in range(a):\n",
    "    b = input(\"enter number to add in list : \")\n",
    "    list1.append(b)\n",
    "print(list1)\n",
    "for i in list1:\n",
    "    if len(i) >= 2 and i[0] == i[-1] :\n",
    "        count += 1\n",
    "print(\"number of string with the above given condition = \",count)"
   ]
  },
  {
   "cell_type": "code",
   "execution_count": null,
   "id": "299870ba",
   "metadata": {},
   "outputs": [],
   "source": [
    "# Write a Python program to remove duplicates from a list.\n",
    "\n",
    "list1 = [1,2,3,1,4,5,5,6,7]\n",
    "list2 = []\n",
    "for i in list1 :\n",
    "    if i not in list2:\n",
    "        list2.append(i)\n",
    "print(list2)"
   ]
  },
  {
   "cell_type": "code",
   "execution_count": null,
   "id": "5f829f79",
   "metadata": {},
   "outputs": [],
   "source": [
    "# Write a Python program to check a list is empty or not.\n",
    "\n",
    "list1 = []\n",
    "a = int(input(\"enter how many elements you want in a list : \"))\n",
    "for i in range(a):\n",
    "    b = input(\"enter number to add in list : \")\n",
    "    list1.append(b)\n",
    "if len(list1) == 0 :\n",
    "    print(\"list is empty!!\")\n",
    "else:\n",
    "    print(\"list is not empty!!\")"
   ]
  },
  {
   "cell_type": "code",
   "execution_count": null,
   "id": "31911320",
   "metadata": {},
   "outputs": [],
   "source": [
    "# Write a Python function that takes two lists and returns true if they have at least one common member.\n",
    "\n",
    "def fun(list1,list2):\n",
    "    answer = False\n",
    "    for i in list1:\n",
    "        for j in list2:\n",
    "            if i == j:\n",
    "                answer = True\n",
    "            return answer\n",
    "list1 = [1,2,3,4,5]\n",
    "list2 = [1,5,7,8,9]\n",
    "fun(list1,list2)"
   ]
  },
  {
   "cell_type": "code",
   "execution_count": null,
   "id": "d9fc6323",
   "metadata": {},
   "outputs": [],
   "source": [
    "##### Write a Python program to generate and print a list of first and last 5 elements where the values are square of numbers \n",
    "# between 1 and 30.\n",
    "\n",
    "list1 = []\n",
    "list2 = []\n",
    "for i in range(1,31):\n",
    "    list1.append(i**2)\n",
    "list2.extend(list1[:5])\n",
    "list2.extend(list1[-5:])\n",
    "print(list2)\n",
    "\n"
   ]
  },
  {
   "cell_type": "code",
   "execution_count": null,
   "id": "67533b85",
   "metadata": {},
   "outputs": [],
   "source": [
    "# Write a Python function that takes a list and returns a new list with unique elements of the first list.\n",
    "\n",
    "def fun(list1):\n",
    "    new_list = []\n",
    "    for i in list1:\n",
    "        if i not in new_list:\n",
    "            new_list.append(i)\n",
    "    return new_list\n",
    "list1 = [2,4,5,6,6,4,78,8,78,99,99]\n",
    "fun(list1)"
   ]
  },
  {
   "cell_type": "code",
   "execution_count": null,
   "id": "e647a49d",
   "metadata": {},
   "outputs": [],
   "source": [
    "# Write a Python program to convert a list of characters into a string.\n",
    "\n",
    "list1 = ['a','b','c','d','e']\n",
    "str = ''.join(list1)\n",
    "print(str)"
   ]
  },
  {
   "cell_type": "code",
   "execution_count": null,
   "id": "bfdd2a26",
   "metadata": {},
   "outputs": [],
   "source": [
    "# Write a Python program to select an item randomly from a list.\n",
    "import random as rd\n",
    "\n",
    "list1 = ['a','b','c','d','e']\n",
    "print(rd.choice(list1))"
   ]
  },
  {
   "cell_type": "code",
   "execution_count": null,
   "id": "7eb4278d",
   "metadata": {},
   "outputs": [],
   "source": [
    "# Write a Python program to find the second smallest number in a list.\n",
    "\n",
    "list1 = []\n",
    "a = int(input(\"enter how many elements you want in a list : \"))\n",
    "for i in range(a):\n",
    "    b = input(\"enter number to add in list : \")\n",
    "    list1.append(b)\n",
    "list1.sort()\n",
    "print(\"second smallest number in a list is \",list1[1])"
   ]
  },
  {
   "cell_type": "code",
   "execution_count": null,
   "id": "3c58865f",
   "metadata": {},
   "outputs": [],
   "source": [
    "# Write a Python program to check whether a list contains a sub list\n"
   ]
  },
  {
   "cell_type": "code",
   "execution_count": null,
   "id": "b159aa1a",
   "metadata": {},
   "outputs": [],
   "source": [
    "# Write a Python program to split a list into different variables.\n",
    "\n",
    "list1 = [1,'hello',[6,7,8,89,9],(4,5,6,7,8),99.99]\n",
    "a,b,c,d,e = list1\n",
    "print('a = ',a)\n",
    "print('b = ',b)\n",
    "print('c = ',c)\n",
    "print('d = ',d)\n",
    "print('e = ',e)"
   ]
  },
  {
   "cell_type": "code",
   "execution_count": null,
   "id": "5c5062e4",
   "metadata": {},
   "outputs": [],
   "source": [
    "# What is tuple? Difference between list and tuple.\n",
    "\n",
    "# tuple is a built in collection data type in python.\n",
    "# represented by () brackets\n",
    "\n",
    "# the main diffrence between list and tuple is : list is mutable and tuple is immutable."
   ]
  },
  {
   "cell_type": "code",
   "execution_count": null,
   "id": "5c9d09d9",
   "metadata": {},
   "outputs": [],
   "source": [
    "# Write a Python program to create a tuple with different data types.\n",
    "\n",
    "t1 = (1,2.3,'hello',[1,2,3,4],(2,3,4,5),{5,6,7,8},{1:5})\n",
    "print(t1)"
   ]
  },
  {
   "cell_type": "code",
   "execution_count": null,
   "id": "3541628d",
   "metadata": {},
   "outputs": [],
   "source": [
    "# Write a Python program to create a tuple with numbers.\n",
    "\n",
    "t1 = (2,3,4,5,6,7)\n",
    "print(t1)"
   ]
  },
  {
   "cell_type": "code",
   "execution_count": null,
   "id": "faac3a4e",
   "metadata": {},
   "outputs": [],
   "source": [
    "## Write a Python program to convert a tuple to a string.\n",
    "\n",
    "n = int(input(\"enter how many elements you want in tuple : \"))\n",
    "l1 = []\n",
    "for i in range(n):\n",
    "    a = input(\"enter element : \")\n",
    "    l1.append(a)\n",
    "t1 = tuple(l1)\n",
    "str = ''.join(t1)\n",
    "print(str)\n"
   ]
  },
  {
   "cell_type": "code",
   "execution_count": null,
   "id": "74a657c6",
   "metadata": {},
   "outputs": [],
   "source": [
    "# Write a Python program to check whether an element exists within a tuple.\n",
    "\n",
    "t1=(1,3,3,4,5,5,56,6)\n",
    "if len(t1)==0:\n",
    "    print(\"element does not exist!!!\")\n",
    "else:\n",
    "    print(\"element exists!!!\")"
   ]
  },
  {
   "cell_type": "code",
   "execution_count": null,
   "id": "3270737b",
   "metadata": {},
   "outputs": [],
   "source": [
    "# Write a Python program to find the length of a tuple.\n",
    "\n",
    "t1=(1,3,3,4,5,5,56,6)\n",
    "print(len(t1))"
   ]
  },
  {
   "cell_type": "code",
   "execution_count": null,
   "id": "d0247ed1",
   "metadata": {},
   "outputs": [],
   "source": [
    "# Write a Python program to convert a list to a tuple.\n",
    "\n",
    "list1 = [3,4,5,6,78]\n",
    "list1 = tuple(list1)\n",
    "print(list1)"
   ]
  },
  {
   "cell_type": "code",
   "execution_count": null,
   "id": "9d7d3d16",
   "metadata": {},
   "outputs": [],
   "source": [
    "# Write a Python program to reverse a tuple.\n",
    "\n",
    "tuple1 = (55,66,78,88,99)\n",
    "tuple2 = tuple1[-1::-1]\n",
    "print(tuple2)"
   ]
  },
  {
   "cell_type": "code",
   "execution_count": null,
   "id": "736ed16a",
   "metadata": {},
   "outputs": [],
   "source": [
    "# Write a Python program to replace last value of tuples in a list.\n",
    "\n",
    "list1 = [(5,6,7),(77,88,99),(44,55,66)]\n",
    "print([i[:-1]+(10,) for i in list1])"
   ]
  },
  {
   "cell_type": "code",
   "execution_count": null,
   "id": "d2c0f98f",
   "metadata": {},
   "outputs": [],
   "source": [
    "# Write a Python program to find the repeated items of a tuple.\n",
    "\n",
    "t1 = (22,33,44,55,22,1,2,1,3,2,1,4,3,33,22,4)\n",
    "l1 =[]\n",
    "for i in t1:\n",
    "    t1.count(i)\n",
    "    if ((t1.count(i) > 1) and (i not in l1)):\n",
    "        l1.append(i)\n",
    "print(\"repeated items in a tuple are : \",l1)"
   ]
  },
  {
   "cell_type": "code",
   "execution_count": null,
   "id": "708e6496",
   "metadata": {},
   "outputs": [],
   "source": [
    "# Write a Python program to remove an empty tuple(s) from a list of tuples.\n",
    "\n",
    "list1 = [(1,2,3,4),(2,55,66,77),(),(0,9,8,7),(),(76,77,5,4)]\n",
    "a = [i for i in list1 if i]\n",
    "print(a)"
   ]
  },
  {
   "cell_type": "code",
   "execution_count": null,
   "id": "756d6e9f",
   "metadata": {},
   "outputs": [],
   "source": [
    "# Write a Python program to unzip a list of tuples into individual lists.\n",
    "\n",
    "a = [('abc','def','ghi'),(3,4,5),(6,7,8,9),(10,11,12,13,14),(),(\"\",)]\n",
    "for i in a:\n",
    "    print(list(i),end = ' ')"
   ]
  },
  {
   "cell_type": "code",
   "execution_count": null,
   "id": "a528762b",
   "metadata": {},
   "outputs": [],
   "source": [
    "# Write a Python program to convert a list of tuples into a dictionary.\n",
    "\n",
    "list1 = [(1,'a'),(3,'b'),(5,'c'),('a',0),('c',1),('e',2)]\n",
    "print(dict(list1))"
   ]
  },
  {
   "cell_type": "code",
   "execution_count": null,
   "id": "e0f643ef",
   "metadata": {},
   "outputs": [],
   "source": [
    "# How will you create a dictionary using tuples in python?\n",
    "\n",
    "# to create a dictionary using tuples we will use the dict() method,where dict method will take the tuple as an argument and will \n",
    "# return dict as a key value pair."
   ]
  },
  {
   "cell_type": "code",
   "execution_count": null,
   "id": "f7fc8cfc",
   "metadata": {},
   "outputs": [],
   "source": [
    "# Write a Python script to sort (ascending and descending) a dictionary by value.\n",
    "\n",
    "dict1 = {'a':12,'b':44,'c':3,'d':99,'e':65,'f':25}\n",
    "\n",
    "# Ascending order\n",
    "\n",
    "l1 = []\n",
    "dict2 = {}\n",
    "dict3 = {}\n",
    "for i in dict1:\n",
    "    l1.append(dict1[i])\n",
    "l1.sort()\n",
    "for i in l1:\n",
    "    for j in dict1:\n",
    "        if dict1[j] == i:\n",
    "            dict2.update({j:i})\n",
    "print(\"Ascending order : \",dict2)\n",
    "\n",
    "# Descending order\n",
    "\n",
    "l1.sort(reverse=True)\n",
    "for i in l1:\n",
    "    for j in dict1:\n",
    "        if dict1[j] == i:\n",
    "            dict3.update({j:i})\n",
    "print(\"Descending order : \",dict3)"
   ]
  },
  {
   "cell_type": "code",
   "execution_count": null,
   "id": "5a72ae7c",
   "metadata": {},
   "outputs": [],
   "source": [
    "# Write a Python script to concatenate following dictionaries to create a new one.\n",
    "\n",
    "dict1 = {1:'a',2:'b'}\n",
    "dict2 = {3:'c',4:'e','hello':'python'}\n",
    "dict3 = {5:'f',6:'g',7:'h'}\n",
    "dict4 = {}\n",
    "for i in dict1,dict2,dict3:\n",
    "    dict4.update(i)\n",
    "print(dict4)"
   ]
  },
  {
   "cell_type": "code",
   "execution_count": null,
   "id": "c5acbe30",
   "metadata": {},
   "outputs": [],
   "source": [
    "# Write a Python script to check if a given key already exists in a dictionary.\n",
    "\n",
    "def key_check(dict,key):\n",
    "    if key in dict:\n",
    "        print(f\"key already exists with value {dict[key]}\")\n",
    "    else:\n",
    "        print(\"key does not exists\")\n",
    "dict = {'a':12,'b':44,'c':3,'d':99,'e':65,'f':25}\n",
    "key = input(\"enter the key : \")\n",
    "key_check(dict,key)"
   ]
  },
  {
   "cell_type": "code",
   "execution_count": null,
   "id": "1d16f405",
   "metadata": {},
   "outputs": [],
   "source": [
    "How Do You Traverse Through A Dictionary Object In Python?"
   ]
  },
  {
   "cell_type": "code",
   "execution_count": null,
   "id": "40085944",
   "metadata": {},
   "outputs": [],
   "source": [
    "How Do You Check The Presence Of A Key In A Dictionary?"
   ]
  },
  {
   "cell_type": "code",
   "execution_count": null,
   "id": "35147ab3",
   "metadata": {},
   "outputs": [],
   "source": [
    "# Write a Python script to print a dictionary where the keys are numbers between 1 and 15.\n",
    "\n",
    "dict1 = dict()\n",
    "for i in range(2,15):\n",
    "    dict1[i] = i+1\n",
    "print(dict1)"
   ]
  },
  {
   "cell_type": "code",
   "execution_count": null,
   "id": "1d5aac67",
   "metadata": {},
   "outputs": [],
   "source": [
    "# Write a Python program to check multiple keys exists in a dictionary\n",
    "\n"
   ]
  },
  {
   "cell_type": "code",
   "execution_count": null,
   "id": "4d27803a",
   "metadata": {},
   "outputs": [],
   "source": [
    "# Write a Python script to merge two Python dictionaries\n",
    "\n",
    "dict1 = {1:'a',2:'b'}\n",
    "dict2 = {3:'c',4:'e','hello':'python'}\n",
    "dict3 = dict1.copy()\n",
    "dict3.update(dict2)\n",
    "print(dict3)"
   ]
  },
  {
   "cell_type": "code",
   "execution_count": null,
   "id": "f17297d6",
   "metadata": {},
   "outputs": [],
   "source": [
    "# Write a Python program to map two lists into a dictionary\n",
    "\n"
   ]
  },
  {
   "cell_type": "code",
   "execution_count": null,
   "id": "44a93942",
   "metadata": {},
   "outputs": [],
   "source": [
    "# Write a Python program to combine two dictionary adding values for common keys.\n",
    "\n",
    "\n",
    "dict1 = {'a':12,'b':44,'c':3,'d':99,'e':65,'f':25}\n",
    "dict2 = {'a':15,'b':10,'c':30,'f':20}\n",
    "for i in dict1:\n",
    "    if i in dict2:\n",
    "        dict1[i] = dict1[i] + dict2[i]\n",
    "    else:\n",
    "        pass\n",
    "print(dict1)\n",
    "#  sample output : {'a':27,'b':54,'c':33,'d':99,'e':65,'f':45}"
   ]
  },
  {
   "cell_type": "code",
   "execution_count": 3,
   "id": "501678be",
   "metadata": {},
   "outputs": [
    {
     "name": "stdout",
     "output_type": "stream",
     "text": [
      "[12, 44, 3, 65, [1, 2, 3, 4], 'seema']\n"
     ]
    }
   ],
   "source": [
    "# Write a Python program to print all unique values in a dictionary.\n",
    "\n",
    "dict1 = {'a':12,'b':44,'c':3,'d':44,'e':65,'f':3,'hello':[1,2,3,4],'hii':'seema'}\n",
    "list1 = []\n",
    "for value in dict1.values():\n",
    "    if value not in list1:\n",
    "        list1.append(value)\n",
    "    else:\n",
    "        continue\n",
    "print(list1)"
   ]
  },
  {
   "cell_type": "code",
   "execution_count": null,
   "id": "ed0fb3c5",
   "metadata": {},
   "outputs": [],
   "source": [
    "# Why Do You Use the Zip () Method in Python?\n"
   ]
  },
  {
   "cell_type": "code",
   "execution_count": null,
   "id": "5127f8de",
   "metadata": {},
   "outputs": [],
   "source": [
    "# Write a Python program to create and display all combinations of letters,selecting each letter from a different key in a\n",
    "# dictionary.\n",
    "\n"
   ]
  },
  {
   "cell_type": "code",
   "execution_count": null,
   "id": "6b7fe531",
   "metadata": {},
   "outputs": [],
   "source": [
    "# Write a Python program to find the highest 3 values in a dictionary\n"
   ]
  }
 ],
 "metadata": {
  "kernelspec": {
   "display_name": "Python 3 (ipykernel)",
   "language": "python",
   "name": "python3"
  },
  "language_info": {
   "codemirror_mode": {
    "name": "ipython",
    "version": 3
   },
   "file_extension": ".py",
   "mimetype": "text/x-python",
   "name": "python",
   "nbconvert_exporter": "python",
   "pygments_lexer": "ipython3",
   "version": "3.9.7"
  }
 },
 "nbformat": 4,
 "nbformat_minor": 5
}
