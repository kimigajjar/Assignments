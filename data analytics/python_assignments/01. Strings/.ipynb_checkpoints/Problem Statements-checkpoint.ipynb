{
 "cells": [
  {
   "cell_type": "markdown",
   "metadata": {},
   "source": [
    "## Python Data Type: String - Exercises"
   ]
  },
  {
   "cell_type": "markdown",
   "metadata": {},
   "source": [
    "#### 1. Write a Python program to count the number of characters (character frequency) in a string \n",
    "* Sample String : google.com'\n",
    "* Expected Result : {'o': 3, 'g': 2, '.': 1, 'e': 1, 'l': 1, 'm': 1, 'c': 1}"
   ]
  },
  {
   "cell_type": "code",
   "execution_count": 3,
   "metadata": {},
   "outputs": [
    {
     "name": "stdout",
     "output_type": "stream",
     "text": [
      "enter the string : google.com\n",
      "{'g': 2, 'o': 3, 'l': 1, 'e': 1, '.': 1, 'c': 1, 'm': 1}\n"
     ]
    }
   ],
   "source": [
    "string = input(\"enter the string : \")\n",
    "dict = {}\n",
    "for i in string:\n",
    "    keys = dict.keys()\n",
    "    if i in keys:\n",
    "        dict[i] += 1\n",
    "    else:\n",
    "        dict[i] = 1\n",
    "print(dict)"
   ]
  },
  {
   "cell_type": "markdown",
   "metadata": {},
   "source": [
    "#### 2. Write a Python program to get a string from a given string where all occurrences of its first char have been changed to '$' ,except the first char itself\n",
    "\n",
    "* Sample String : 'restart'\n",
    "* Expected Result : 'resta$t' "
   ]
  },
  {
   "cell_type": "code",
   "execution_count": 6,
   "metadata": {},
   "outputs": [
    {
     "name": "stdout",
     "output_type": "stream",
     "text": [
      "enter the string : australia\n",
      "austr$li$\n"
     ]
    }
   ],
   "source": [
    "s = input(\"enter the string : \")\n",
    "a = s[0]\n",
    "b = s.replace(a,'$')\n",
    "c = a + b[1:]\n",
    "print(c)"
   ]
  },
  {
   "cell_type": "markdown",
   "metadata": {},
   "source": [
    "#### 3. Write a Python function that takes a list of words and returns the length of the longest one"
   ]
  },
  {
   "cell_type": "code",
   "execution_count": 8,
   "metadata": {},
   "outputs": [
    {
     "name": "stdout",
     "output_type": "stream",
     "text": [
      "legth of longest word is :  10\n"
     ]
    }
   ],
   "source": [
    "list = ['kimi','gajjar','apple','banana','watermelon','virat','seema']\n",
    "a = []\n",
    "for i in list:\n",
    "    a.append(len(i))\n",
    "print(\"legth of longest word is : \",max(a))"
   ]
  },
  {
   "cell_type": "code",
   "execution_count": null,
   "metadata": {},
   "outputs": [],
   "source": [
    " 4. Write a Python program to count the occurrences of each word in a given sentence"
   ]
  },
  {
   "cell_type": "code",
   "execution_count": 14,
   "metadata": {},
   "outputs": [
    {
     "name": "stdout",
     "output_type": "stream",
     "text": [
      "enter the string : hello how are you hello how do you do\n",
      "hello 2\n",
      "how 2\n",
      "are 1\n",
      "you 2\n",
      "do 2\n"
     ]
    }
   ],
   "source": [
    "string = input(\"enter the string : \")\n",
    "l1 = list(string.split())\n",
    "l2 = []\n",
    "count = 0\n",
    "for i in l1:\n",
    "    if i not in l2:\n",
    "        l2.append(i)\n",
    "for i in l2:\n",
    "    print(i,string.count(i))\n",
    "    \n"
   ]
  },
  {
   "cell_type": "markdown",
   "metadata": {},
   "source": [
    " 5. Write a Python function to convert a given string to all uppercase if it contains at least 2 uppercase characters in the first 4 characters."
   ]
  },
  {
   "cell_type": "code",
   "execution_count": 21,
   "metadata": {},
   "outputs": [
    {
     "name": "stdout",
     "output_type": "stream",
     "text": [
      "PUMPKIN\n",
      "python\n"
     ]
    }
   ],
   "source": [
    "def string_convert(string):\n",
    "    upper_count = 0\n",
    "    for i in string[:4]:\n",
    "        if i.upper()==i:\n",
    "            upper_count += 1\n",
    "    if upper_count >= 2:\n",
    "         return string.upper()\n",
    "    return string\n",
    "print(string_convert('PuMPkin'))\n",
    "print(string_convert('python'))\n"
   ]
  },
  {
   "cell_type": "markdown",
   "metadata": {},
   "source": [
    "#### 6. Write a Python program to count and display the vowels of a given text"
   ]
  },
  {
   "cell_type": "code",
   "execution_count": 31,
   "metadata": {},
   "outputs": [
    {
     "name": "stdout",
     "output_type": "stream",
     "text": [
      "enter the string : i am kimi gajjar\n",
      "i 3\n",
      "a 3\n"
     ]
    }
   ],
   "source": [
    "string = input(\"enter the string : \")\n",
    "vowels = 'aeiou'\n",
    "new_string = ''\n",
    "a = ''\n",
    "for i in string:\n",
    "    if i in vowels:\n",
    "        new_string+=i\n",
    "for i in new_string:\n",
    "    if i not in a:\n",
    "        a+=i\n",
    "for i in a:  \n",
    "    print(i,string.count(i))"
   ]
  },
  {
   "cell_type": "code",
   "execution_count": null,
   "metadata": {},
   "outputs": [],
   "source": []
  }
 ],
 "metadata": {
  "kernelspec": {
   "display_name": "Python 3 (ipykernel)",
   "language": "python",
   "name": "python3"
  },
  "language_info": {
   "codemirror_mode": {
    "name": "ipython",
    "version": 3
   },
   "file_extension": ".py",
   "mimetype": "text/x-python",
   "name": "python",
   "nbconvert_exporter": "python",
   "pygments_lexer": "ipython3",
   "version": "3.9.7"
  }
 },
 "nbformat": 4,
 "nbformat_minor": 2
}
