{
 "cells": [
  {
   "cell_type": "code",
   "execution_count": null,
   "id": "3d398424",
   "metadata": {},
   "outputs": [],
   "source": [
    "# What is File function in python? What is keywords to create and write file\n",
    "\n",
    "# file function is nothing but function which returns the object of the file.it is used to create or modify the file.\n",
    "# with open('path','x') and open('path','w') we can create and write file.for writing in a file we can also use write() or writelines()"
   ]
  },
  {
   "cell_type": "code",
   "execution_count": null,
   "id": "bd2d04cd",
   "metadata": {},
   "outputs": [],
   "source": [
    "# Write a Python program to read an entire text file.\n",
    "\n",
    "f1 = open('sample.txt','r')\n",
    "f1.read()\n",
    "f1.close()"
   ]
  },
  {
   "cell_type": "code",
   "execution_count": null,
   "id": "a0725fc8",
   "metadata": {},
   "outputs": [],
   "source": [
    "# Write a Python program to append text to a file and display the text.\n",
    "\n",
    "f2 = open('sample.txt','a')\n",
    "f2.write('java language\\nweb programming\\npython is easy\\n')\n",
    "f2.close()\n",
    "\n",
    "f3 = open('sample.txt','r')\n",
    "print('after appending text..')\n",
    "f3.read()\n",
    "f3.close()\n"
   ]
  },
  {
   "cell_type": "code",
   "execution_count": null,
   "id": "16467b22",
   "metadata": {},
   "outputs": [],
   "source": [
    "# Write a Python program to read first n lines of a file.\n",
    "\n",
    "lines = int(input('enter number of lines to be read : '))\n",
    "f4 = open('sample.txt','r')\n",
    "for i in range(lines):\n",
    "    print(f4.readline())\n",
    "f4.close()"
   ]
  },
  {
   "cell_type": "code",
   "execution_count": 13,
   "id": "1ecf4ab7",
   "metadata": {},
   "outputs": [
    {
     "name": "stdout",
     "output_type": "stream",
     "text": [
      "enter number of lines to be read from end : 2\n",
      "['cccc\\n', 'dddd']\n"
     ]
    }
   ],
   "source": [
    "# Write a Python program to read last n lines of a file.\n",
    "\n",
    "n = int(input('enter number of lines to be read from end : '))\n",
    "f5 = open('sample.txt','r')\n",
    "a = f5.readlines()\n",
    "print(a[-n:])\n",
    "f5.close()"
   ]
  },
  {
   "cell_type": "code",
   "execution_count": 44,
   "id": "e5690c91",
   "metadata": {},
   "outputs": [
    {
     "name": "stdout",
     "output_type": "stream",
     "text": [
      "['python is an interpreted language\\n', 'hello world !!!\\n', 'abc\\n', 'def\\n', 'ghi\\n', 'java language\\n', 'web programming\\n', 'python is easy\\n', 'aaaa\\n', 'bbbb\\n', 'cccc\\n', 'dddd']\n"
     ]
    }
   ],
   "source": [
    "# Write a Python program to read a file line by line and store it into a list\n",
    "\n",
    "file = open('sample.txt','r')\n",
    "# l1 = []\n",
    "# for i in file:\n",
    "#     l1.append(i)\n",
    "# print(l1)\n",
    "\n",
    "# -----------or----------\n",
    "\n",
    "a = file.readlines()\n",
    "print(a)\n",
    "file.close()"
   ]
  },
  {
   "cell_type": "code",
   "execution_count": 50,
   "id": "86765419",
   "metadata": {},
   "outputs": [
    {
     "ename": "FileNotFoundError",
     "evalue": "[Errno 2] No such file or directory: 'test.txt'",
     "output_type": "error",
     "traceback": [
      "\u001b[1;31m---------------------------------------------------------------------------\u001b[0m",
      "\u001b[1;31mFileNotFoundError\u001b[0m                         Traceback (most recent call last)",
      "\u001b[1;32mC:\\Users\\KIMIGA~1\\AppData\\Local\\Temp/ipykernel_27352/15140655.py\u001b[0m in \u001b[0;36m<module>\u001b[1;34m\u001b[0m\n\u001b[0;32m      1\u001b[0m \u001b[1;31m# Write a Python program to read a file line by line store it into a variable.\u001b[0m\u001b[1;33m\u001b[0m\u001b[1;33m\u001b[0m\u001b[0m\n\u001b[0;32m      2\u001b[0m \u001b[1;33m\u001b[0m\u001b[0m\n\u001b[1;32m----> 3\u001b[1;33m \u001b[1;32mwith\u001b[0m \u001b[0mopen\u001b[0m\u001b[1;33m(\u001b[0m\u001b[1;34m'test.txt'\u001b[0m\u001b[1;33m,\u001b[0m\u001b[1;34m'r'\u001b[0m\u001b[1;33m)\u001b[0m \u001b[1;32mas\u001b[0m \u001b[0mf1\u001b[0m\u001b[1;33m:\u001b[0m\u001b[1;33m\u001b[0m\u001b[1;33m\u001b[0m\u001b[0m\n\u001b[0m\u001b[0;32m      4\u001b[0m     \u001b[1;32mfor\u001b[0m \u001b[0mi\u001b[0m \u001b[1;32min\u001b[0m \u001b[0mrange\u001b[0m\u001b[1;33m(\u001b[0m\u001b[1;36m1\u001b[0m\u001b[1;33m,\u001b[0m\u001b[0mlen\u001b[0m\u001b[1;33m(\u001b[0m\u001b[0mf1\u001b[0m\u001b[1;33m.\u001b[0m\u001b[0mreadlines\u001b[0m\u001b[1;33m(\u001b[0m\u001b[1;33m)\u001b[0m\u001b[1;33m)\u001b[0m\u001b[1;33m)\u001b[0m\u001b[1;33m:\u001b[0m\u001b[1;33m\u001b[0m\u001b[1;33m\u001b[0m\u001b[0m\n\u001b[0;32m      5\u001b[0m         \u001b[0ma\u001b[0m \u001b[1;33m=\u001b[0m \u001b[0mf1\u001b[0m\u001b[1;33m.\u001b[0m\u001b[0mreadline\u001b[0m\u001b[1;33m(\u001b[0m\u001b[1;33m)\u001b[0m\u001b[1;33m\u001b[0m\u001b[1;33m\u001b[0m\u001b[0m\n",
      "\u001b[1;31mFileNotFoundError\u001b[0m: [Errno 2] No such file or directory: 'test.txt'"
     ]
    }
   ],
   "source": [
    "# Write a Python program to read a file line by line store it into a variable.\n",
    "\n",
    "with open('test.txt','r') as f1:\n",
    "    for i in range(1,len(f1.readlines())):\n",
    "        a = f1.readline()\n",
    "        print(f'var{i} = {a}')"
   ]
  },
  {
   "cell_type": "code",
   "execution_count": null,
   "id": "465cefa3",
   "metadata": {},
   "outputs": [],
   "source": []
  }
 ],
 "metadata": {
  "kernelspec": {
   "display_name": "Python 3 (ipykernel)",
   "language": "python",
   "name": "python3"
  },
  "language_info": {
   "codemirror_mode": {
    "name": "ipython",
    "version": 3
   },
   "file_extension": ".py",
   "mimetype": "text/x-python",
   "name": "python",
   "nbconvert_exporter": "python",
   "pygments_lexer": "ipython3",
   "version": "3.9.7"
  }
 },
 "nbformat": 4,
 "nbformat_minor": 5
}
